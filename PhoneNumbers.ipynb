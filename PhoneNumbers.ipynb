{
 "cells": [
  {
   "cell_type": "code",
   "execution_count": 1,
   "id": "ba7d67dd",
   "metadata": {},
   "outputs": [
    {
     "name": "stdout",
     "output_type": "stream",
     "text": [
      "Enter Mobile Number with Country code:+917455852687\n",
      "('Asia/Calcutta',)\n",
      "Airtel\n",
      "India\n",
      "Valid Mobile NUmber: True\n",
      "Checking possibility of Number : True\n"
     ]
    }
   ],
   "source": [
    "import phonenumbers\n",
    "from phonenumbers import carrier, geocoder, timezone\n",
    "\n",
    "mobileNo= input(\"Enter Mobile Number with Country code:\")\n",
    "mobileNo= phonenumbers.parse(mobileNo)\n",
    "\n",
    "print(timezone.time_zones_for_number(mobileNo))\n",
    "\n",
    "print(carrier.name_for_number(mobileNo,\"en\"))\n",
    "\n",
    "print(geocoder.description_for_number(mobileNo,\"en\"))\n",
    "\n",
    "print(\"Valid Mobile NUmber:\",phonenumbers.is_valid_number(mobileNo))\n",
    "\n",
    "print(\"Checking possibility of Number :\", phonenumbers.is_possible_number(mobileNo))\n"
   ]
  }
 ],
 "metadata": {
  "kernelspec": {
   "display_name": "Python 3",
   "language": "python",
   "name": "python3"
  },
  "language_info": {
   "codemirror_mode": {
    "name": "ipython",
    "version": 3
   },
   "file_extension": ".py",
   "mimetype": "text/x-python",
   "name": "python",
   "nbconvert_exporter": "python",
   "pygments_lexer": "ipython3",
   "version": "3.8.8"
  }
 },
 "nbformat": 4,
 "nbformat_minor": 5
}
